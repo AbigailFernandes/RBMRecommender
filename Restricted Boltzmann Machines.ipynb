{
 "cells": [
  {
   "cell_type": "code",
   "execution_count": 2,
   "metadata": {},
   "outputs": [
    {
     "name": "stderr",
     "output_type": "stream",
     "text": [
      "/anaconda3/lib/python3.6/site-packages/h5py/__init__.py:36: FutureWarning: Conversion of the second argument of issubdtype from `float` to `np.floating` is deprecated. In future, it will be treated as `np.float64 == np.dtype(float).type`.\n",
      "  from ._conv import register_converters as _register_converters\n"
     ]
    }
   ],
   "source": [
    "import tensorflow as tf\n",
    "import numpy as np\n",
    "import pandas as pd\n",
    "import matplotlib.pyplot as plt\n",
    "from lenskit import crossfold as xf"
   ]
  },
  {
   "cell_type": "code",
   "execution_count": 3,
   "metadata": {},
   "outputs": [],
   "source": [
    "class Data:\n",
    "    def __init__(self):\n",
    "        self.load_data()\n",
    "        \n",
    "    def load_data(self):\n",
    "        self.ratings = pd.read_csv('./data/ratings.csv', sep='\\t', encoding='latin-1', \n",
    "                                   usecols=['user_id', 'movie_id', 'rating'])\n",
    "        self.users = pd.read_csv('./data/users.csv', sep='\\t', encoding='latin-1', \n",
    "                                 usecols=['user_id', 'gender', 'zipcode'])\n",
    "        self.users['user'] = self.users.index\n",
    "        self.movies = pd.read_csv('./data/movies.csv', sep='\\t', encoding='latin-1', \n",
    "                                  usecols=['movie_id', 'title', 'genres'])\n",
    "        self.movies['item'] = self.movies.index"
   ]
  },
  {
   "cell_type": "code",
   "execution_count": 4,
   "metadata": {},
   "outputs": [
    {
     "name": "stdout",
     "output_type": "stream",
     "text": [
      "   movie_id                                      title  item  user_id  rating  \\\n",
      "0         1                           Toy Story (1995)     0        1       5   \n",
      "1        48                          Pocahontas (1995)    47        1       5   \n",
      "2       150                           Apollo 13 (1995)   148        1       5   \n",
      "3       260  Star Wars: Episode IV - A New Hope (1977)   257        1       4   \n",
      "4       527                    Schindler's List (1993)   523        1       5   \n",
      "\n",
      "   user  \n",
      "0     0  \n",
      "1     0  \n",
      "2     0  \n",
      "3     0  \n",
      "4     0  \n"
     ]
    }
   ],
   "source": [
    "data = Data()\n",
    "ratings_new = data.movies.merge(data.ratings, on='movie_id').drop('genres', axis=1)\n",
    "ratings_user_item_idx = ratings_new.merge(data.users, on='user_id').drop(['gender', 'zipcode'], axis=1)\n",
    "print(ratings_user_item_idx.head())"
   ]
  },
  {
   "cell_type": "code",
   "execution_count": 7,
   "metadata": {},
   "outputs": [
    {
     "name": "stdout",
     "output_type": "stream",
     "text": [
      "5 6040 3883 1000209 23453320\n"
     ]
    }
   ],
   "source": [
    "max_rating = 5 # for one hot encoding\n",
    "num_users = len(data.users)\n",
    "num_movies = len(data.movies)\n",
    "num_ratings = len(data.ratings)\n",
    "complete_num_ratings = num_movies * num_users\n",
    "print(max_rating, num_users, num_movies, num_ratings, complete_num_ratings)"
   ]
  },
  {
   "cell_type": "code",
   "execution_count": 8,
   "metadata": {},
   "outputs": [],
   "source": [
    "# This function transforms the ratings to the required input format of RBM\n",
    "max_rating = 5\n",
    "def get_rating_for_rbm(ratings):\n",
    "    ratings_grouped_user = ratings.groupby('user')\n",
    "    user_item_rating = np.zeros([num_users, num_movies, max_rating])\n",
    "    for user, group in ratings_grouped_user:\n",
    "        for movie in group.iterrows():\n",
    "            movie = movie[1]\n",
    "            movie_id = movie['item']\n",
    "            user_id = movie['user']\n",
    "            rating = movie['rating'] - 1\n",
    "            user_item_rating[user_id][movie_id][rating] = 1 \n",
    "    # Reshape matrix of dimension (n_users, n_movies, 5) to be (n_users, n_movies * 5)\n",
    "    reshape_rating = np.reshape(user_item_rating, [user_item_rating.shape[0],-1]).astype(dtype=np.float32)\n",
    "    return reshape_rating"
   ]
  },
  {
   "cell_type": "code",
   "execution_count": 9,
   "metadata": {},
   "outputs": [],
   "source": [
    "rating_rbm = get_rating_for_rbm(ratings_user_item_idx)"
   ]
  },
  {
   "cell_type": "code",
   "execution_count": 10,
   "metadata": {},
   "outputs": [
    {
     "name": "stdout",
     "output_type": "stream",
     "text": [
      "(6040, 19415)\n"
     ]
    }
   ],
   "source": [
    "print(rating_rbm.shape)"
   ]
  },
  {
   "cell_type": "code",
   "execution_count": 11,
   "metadata": {},
   "outputs": [],
   "source": [
    "np.random.shuffle(rating_rbm)\n",
    "test_rating_rbm = rating_rbm[6000:,]\n",
    "train_rating_rbm = rating_rbm[:6000,]"
   ]
  },
  {
   "cell_type": "code",
   "execution_count": 12,
   "metadata": {},
   "outputs": [
    {
     "name": "stdout",
     "output_type": "stream",
     "text": [
      "(40, 19415)\n",
      "(6000, 19415)\n"
     ]
    }
   ],
   "source": [
    "print(test_rating_rbm.shape)\n",
    "print(train_rating_rbm.shape)"
   ]
  },
  {
   "cell_type": "code",
   "execution_count": 21,
   "metadata": {},
   "outputs": [],
   "source": [
    "import math\n",
    "class RBM:\n",
    "    def __init__(self,  input_data, test_data, n_hidden = 100, lr = 0.1, batch_size = 100, gaussian = False):\n",
    "        self.n_hidden = n_hidden\n",
    "        self.n_visible = input_data.shape[1] # input_data has shape (users, (movies * max_ratings))\n",
    "        self.input_data = input_data\n",
    "        self.test_data = test_data\n",
    "        self.batch_size = batch_size\n",
    "        self.gaussian = gaussian\n",
    "        # Set model parameters for RBM\n",
    "        self.v_bias = tf.Variable(tf.zeros([self.n_visible]), name='v_bias')  # Bias for visible units\n",
    "        self.h_bias = tf.Variable(tf.zeros([self.n_hidden]), name='h_bias')  # Bias for hidden units\n",
    "        self.W = tf.Variable(tf.truncated_normal([self.n_visible, self.n_hidden], stddev=0.01), name='W')\n",
    "        self.create_graph(lr)\n",
    "    \n",
    "    def gibbs_step(self, steps):\n",
    "        v0 = self.v0\n",
    "        for i in range(steps):\n",
    "            # Phase 1: Input Processing / positive phase\n",
    "            _h0 = tf.nn.sigmoid(tf.matmul(v0, self.W) + self.h_bias)  # Visible layer activation (p(h | v))\n",
    "            self.h0 = tf.nn.relu(tf.sign(_h0 - tf.random_uniform(tf.shape(_h0))))  # Gibb's Sampling (get h )\n",
    "\n",
    "            # Phase 2: Reconstruction / negative phase\n",
    "            _v1 = tf.nn.sigmoid(tf.matmul(self.h0, tf.transpose(self.W)) + self.v_bias)  # Hidden layer activation p(v | h)\n",
    "            self.v1 = tf.nn.relu(tf.sign(_v1 - tf.random_uniform(tf.shape(_v1))))\n",
    "            self.h1 = tf.nn.sigmoid(tf.matmul(self.v1, self.W) + self.h_bias)\n",
    "            \n",
    "            v0 = self.v1\n",
    "\n",
    "        \n",
    "    def gibbs_step_with_gaussian(self, steps):\n",
    "        v0 = self.v0\n",
    "        for i in range(steps):\n",
    "            # Phase 1: Input Processing\n",
    "            self._h0_prob = tf.nn.sigmoid(-(1.-self.h_bias-tf.matmul(v0, self.W) ** 2) / 2.)\n",
    "            self.h0 = self._h0_prob / math.sqrt(2.* math.pi)\n",
    "            \n",
    "            # Phase 2: Reconstruction\n",
    "            _v1 = tf.nn.sigmoid(tf.matmul(self.h0, tf.transpose(self.W)) + self.v_bias)  # Hidden layer activation p(v | h)\n",
    "            self.v1 = tf.nn.relu(tf.sign(_v1 - tf.random_uniform(tf.shape(_v1))))\n",
    "            self._h1_prob = tf.nn.sigmoid(-(1.-self.h_bias-tf.matmul(self.v1, self.W)**2)/2.)\n",
    "            self.h1 = self._h1_prob / math.sqrt(2. * math.pi)\n",
    "            \n",
    "            v0 = self.v1\n",
    "    \n",
    "    def create_graph(self, lr = 0.05):\n",
    "        # create mask for ratings not provided\n",
    "        self.v0 = tf.placeholder(tf.float32, [None, self.n_visible])\n",
    "        self.mask = self.v0\n",
    "        self.mask = tf.reshape(self.mask,[self.batch_size, -1, max_rating])\n",
    "        self.mask = tf.reduce_sum(self.mask,axis = 2)\n",
    "        self.mask = tf.expand_dims(self.mask,axis = 2)\n",
    "        self.mask = tf.tile(self.mask, [1,1,5])\n",
    "        self.mask = tf.reshape(self.mask,[self.batch_size,-1])\n",
    "        if self.gaussian:\n",
    "            self.gibbs_step_with_gaussian(1)\n",
    "        else:\n",
    "            self.gibbs_step(3)\n",
    "        \n",
    "        # Learning rate\n",
    "        self.alpha = lr\n",
    "\n",
    "        # Create the gradients for the positive and negative step\n",
    "        self.w_pos_grad = tf.matmul(tf.transpose(self.v0 * self.mask), self.h0)\n",
    "        self.w_neg_grad = tf.matmul(tf.transpose(self.v1 * self.mask), self.h1) \n",
    "\n",
    "        # Calculate the Contrastive Divergence using the gradients. Maximize CD\n",
    "        # The denominator is to average over all N users\n",
    "        self.CD = (self.w_pos_grad - self.w_neg_grad) / tf.to_float(tf.shape(self.v0)[0]) \n",
    "\n",
    "        # Update weights and biases\n",
    "        self.update_W = self.W.assign(self.W + self.alpha * self.CD)\n",
    "        self.update_v_bias = self.v_bias.assign(self.v_bias + self.alpha * \n",
    "                                                tf.reduce_mean(self.v0 * self.mask  - self.v1 * self.mask, 0))\n",
    "        self.update_h_bias = self.h_bias.assign(self.h_bias + self.alpha * tf.reduce_mean(self.h0 - self.h1, 0))\n",
    "\n",
    "        # We use the root Mean Square Error Function \n",
    "        # multiplication factor to avoid counting unrated movies in the RMSE\n",
    "        err = self.v0 * self.mask - self.v1 * self.mask\n",
    "        self.err_sum = tf.sqrt(tf.reduce_mean(tf.square(err)) * (complete_num_ratings * 2) / num_ratings)\n",
    "        \n",
    "    def train(self, epochs = 50):\n",
    "        sess = tf.Session()\n",
    "        sess.run(tf.global_variables_initializer())\n",
    "\n",
    "        # Train RBM for a number of epochs for a batchsize\n",
    "        self.train_errors = []\n",
    "        self.test_errors = []\n",
    "        for i in range(epochs):\n",
    "            for start, end in zip(range(0, len(self.input_data), self.batch_size), \n",
    "                                  range(self.batch_size, len(self.input_data), self.batch_size)):\n",
    "                batch = self.input_data[start:end]\n",
    "                \n",
    "                err,_,_,_ =  sess.run([self.err_sum, self.update_W, self.update_v_bias, self.update_h_bias], \n",
    "                                  feed_dict={self.v0: batch})\n",
    "            self.train_errors.append(err)\n",
    "#             print(self.train_errors[-1])\n",
    "\n",
    "\n",
    "        # Convert tensors to numpy array for prediction\n",
    "        with sess.as_default():\n",
    "            self.W_np = self.W.eval()\n",
    "            self.hb_np = self.h_bias.eval()\n",
    "            self.vb_np = self.v_bias.eval()\n",
    "        return self.train_errors\n",
    "    \n",
    "    def predict(self, data):\n",
    "        # Rating data is the same data encoded as integer ratings\n",
    "        # Build a new prediction\n",
    "        num_users = data.shape[0]\n",
    "        rmse = np.zeros(num_users)\n",
    "        for i in range(num_users):\n",
    "            vis = data[i, ]         \n",
    "            # Calculate p_hat using equation (9)\n",
    "            p_hat = 1. / (np.ones(self.n_hidden) + np.exp((np.mean(vis @ self.W_np)) + self.hb_np))\n",
    "            # Denominator is constant so we calculate only the numerator\n",
    "            v_pred= np.exp(np.matmul(np.transpose(p_hat), np.transpose(self.W_np)) + self.vb_np)  \n",
    "\n",
    "            # Convert the probablities to ratings\n",
    "            # Results stored in rpre\n",
    "            r_pred = np.zeros(num_movies)\n",
    "            r_test = np.zeros(num_movies)\n",
    "            j = 0\n",
    "            den = 0\n",
    "            # Convert probabilities to rating\n",
    "            # Then calculate MSE for this users on any movies that have been rated\n",
    "            for ii in np.arange(0, data.shape[1], max_rating):\n",
    "                # Convert probabilities to predicted rating\n",
    "                k = ii + max_rating\n",
    "                m = v_pred[ii : k].argmax()\n",
    "                r_pred[j] = m + 1\n",
    "                # Convert one hot test data to ratings\n",
    "                q = vis[ii : k].argmax()\n",
    "                if vis[ii + q] > 0:\n",
    "                    r_test[j] = q + 1\n",
    "                # Calculate MSE for this user\n",
    "                if vis[ii + q] > 0.01:\n",
    "                    rmse[i] += float(m - q)**2\n",
    "                    den += 1\n",
    "\n",
    "                j += 1\n",
    "            rmse[i] = math.sqrt(rmse[i]/ float(den))\n",
    "        return(rmse)"
   ]
  },
  {
   "cell_type": "code",
   "execution_count": 23,
   "metadata": {},
   "outputs": [
    {
     "name": "stdout",
     "output_type": "stream",
     "text": [
      "Mean RMSE on the test data =  1.0918806653510142\n"
     ]
    }
   ],
   "source": [
    "rbm = RBM(train_rating_rbm, test_rating_rbm)\n",
    "rbm_loss = rbm.train()\n",
    "rmse = rbm.predict(test_rating_rbm)\n",
    "print(\"Mean RMSE on the test data = \", rmse.mean())"
   ]
  },
  {
   "cell_type": "code",
   "execution_count": 24,
   "metadata": {},
   "outputs": [
    {
     "name": "stdout",
     "output_type": "stream",
     "text": [
      "Mean RMSE on the test data =  1.0990583437374484\n"
     ]
    }
   ],
   "source": [
    "rbm = RBM(train_rating_rbm, test_rating_rbm, gaussian = True)\n",
    "rbm_gaussian = rbm.train(epochs = 50)\n",
    "rmse = rbm.predict(train_rating_rbm)\n",
    "print(\"Mean RMSE on the test data = \", rmse.mean())"
   ]
  },
  {
   "cell_type": "code",
   "execution_count": 25,
   "metadata": {},
   "outputs": [
    {
     "data": {
      "image/png": "[encoded data removed]",
      "text/plain": [
       "<Figure size 432x288 with 1 Axes>"
      ]
     },
     "metadata": {},
     "output_type": "display_data"
    }
   ],
   "source": [
    "# Plot graphs for epochs vs loss for RBMs with binary as well as gaussian hidden units\n",
    "epochs = [i for i in range(1, 51)]\n",
    "plt.plot(epochs, rbm_loss, color='black', label='RBM')\n",
    "plt.plot(epochs, rbm_gaussian, color='red', label='RBM with Gaussian Hidden units')\n",
    "plt.ylabel('RMSE')\n",
    "plt.xlabel('Epochs')\n",
    "\n",
    "plt.grid(True, which='minor')\n",
    "plt.legend()\n",
    "plt.show()"
   ]
  },
  {
   "cell_type": "code",
   "execution_count": null,
   "metadata": {},
   "outputs": [],
   "source": []
  }
 ],
 "metadata": {
  "kernelspec": {
   "display_name": "Python 3",
   "language": "python",
   "name": "python3"
  },
  "language_info": {
   "codemirror_mode": {
    "name": "ipython",
    "version": 3
   },
   "file_extension": ".py",
   "mimetype": "text/x-python",
   "name": "python",
   "nbconvert_exporter": "python",
   "pygments_lexer": "ipython3",
   "version": "3.6.5"
  }
 },
 "nbformat": 4,
 "nbformat_minor": 2
}
